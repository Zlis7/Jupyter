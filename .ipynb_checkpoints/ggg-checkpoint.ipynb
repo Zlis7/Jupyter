{
 "cells": [
  {
   "cell_type": "code",
   "execution_count": 88,
   "id": "a4b8edc2-7821-4ee3-8c5a-a50d31617d64",
   "metadata": {},
   "outputs": [],
   "source": [
    "from sympy import *\n",
    "from matplotlib import *"
   ]
  },
  {
   "cell_type": "code",
   "execution_count": 89,
   "id": "0d883ddf-6dbb-4bac-b713-b19c4e309436",
   "metadata": {},
   "outputs": [],
   "source": [
    "a3, a2, a1, a0 = symbols('a3,a2,a1,a0') \n",
    "x = Symbol('x')"
   ]
  },
  {
   "cell_type": "code",
   "execution_count": 90,
   "id": "da7f849f-9fb7-4779-9347-e52743f0e3c7",
   "metadata": {},
   "outputs": [],
   "source": [
    "exp1 = 6.25*a2 - 2.5*a1 + a0 - 15\n",
    "exp2 = 4*a2 - 2*a1 + a0 - 10\n",
    "exp3 = 2.25*a2 - 1.5*a1 + a0 - 7"
   ]
  },
  {
   "cell_type": "code",
   "execution_count": 91,
   "id": "6bf6d9a8-b45f-45a7-b7ec-fdec698d4b4e",
   "metadata": {},
   "outputs": [
    {
     "data": {
      "text/latex": [
       "$\\displaystyle \\left\\{\\left( 4.0, \\  8.0, \\  10.0\\right)\\right\\}$"
      ],
      "text/plain": [
       "{(4.0, 8.0, 10.0)}"
      ]
     },
     "execution_count": 91,
     "metadata": {},
     "output_type": "execute_result"
    }
   ],
   "source": [
    "nonlinsolve([exp1, exp2, exp3], [a2, a1, a0])"
   ]
  },
  {
   "cell_type": "code",
   "execution_count": 92,
   "id": "f6e5043a-cfc2-41c3-909d-f691d18c486d",
   "metadata": {},
   "outputs": [],
   "source": [
    "exp1 = -0.125*a3 + 0.25*a2 - 0.5*a1 + a0 + 15\n",
    "exp2 = -a3 + a2 - a1 + a0 + 31\n",
    "exp3 = a0 + 7\n",
    "exp4 = 0.125*a3 + 0.25*a2 + 0.5*a1 + a0 + 4"
   ]
  },
  {
   "cell_type": "code",
   "execution_count": 93,
   "id": "db6f688a-05d7-4aca-a70a-6f7ee2ab442e",
   "metadata": {},
   "outputs": [
    {
     "data": {
      "text/latex": [
       "$\\displaystyle \\left\\{\\left( 4.0, \\  -10.0, \\  10.0, \\  -7.0\\right)\\right\\}$"
      ],
      "text/plain": [
       "{(4.0, -10.0, 10.0, -7.0)}"
      ]
     },
     "execution_count": 93,
     "metadata": {},
     "output_type": "execute_result"
    }
   ],
   "source": [
    "nonlinsolve([exp1, exp2, exp3, exp4], [a3,a2, a1, a0])"
   ]
  }
 ],
 "metadata": {
  "kernelspec": {
   "display_name": "Python 3 (ipykernel)",
   "language": "python",
   "name": "python3"
  },
  "language_info": {
   "codemirror_mode": {
    "name": "ipython",
    "version": 3
   },
   "file_extension": ".py",
   "mimetype": "text/x-python",
   "name": "python",
   "nbconvert_exporter": "python",
   "pygments_lexer": "ipython3",
   "version": "3.12.4"
  }
 },
 "nbformat": 4,
 "nbformat_minor": 5
}
